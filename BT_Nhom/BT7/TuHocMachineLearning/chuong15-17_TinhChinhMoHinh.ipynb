{
 "cells": [
  {
   "cell_type": "markdown",
   "id": "c560b178-ab88-4352-9491-7d8579a11350",
   "metadata": {},
   "source": [
    "# Chương 15: Tune Hyperparameters of a Classification Model with Grid Search\n",
    "- Mục tiêu chương:\n",
    "Tìm kiếm và điều chỉnh các siêu tham số của mô hình phân loại để cải thiện hiệu suất.\n",
    "- Các bước chính:\n",
    "  + Sử dụng GridSearchCV để tìm kiếm trên không gian các siêu tham số.\n",
    "  + Sử dụng k-fold cross-validation để đánh giá hiệu quả của các bộ siêu tham số.\n",
    "  + Xem xét các mô hình khác nhau với các tham số tối ưu hóa."
   ]
  },
  {
   "cell_type": "code",
   "execution_count": 10,
   "id": "da7aa50e-c10f-43d8-9259-1f8c31711bd8",
   "metadata": {},
   "outputs": [
    {
     "name": "stdout",
     "output_type": "stream",
     "text": [
      "0.7578263841421736\n"
     ]
    }
   ],
   "source": [
    "# Bagged Decision Trees for Classification\n",
    "from pandas import read_csv  # Nhập thư viện để đọc file CSV\n",
    "from sklearn.model_selection import KFold  # Nhập KFold để thực hiện cross-validation\n",
    "from sklearn.model_selection import cross_val_score  # Nhập cross_val_score để đánh giá mô hình\n",
    "from sklearn.ensemble import BaggingClassifier  # Nhập BaggingClassifier để tạo mô hình bagging\n",
    "from sklearn.tree import DecisionTreeClassifier  # Nhập DecisionTreeClassifier để tạo cây quyết định\n",
    "filename = 'pima-indians-diabetes.data.csv'  # Đường dẫn tới file dữ liệu\n",
    "names = ['preg', 'plas', 'pres', 'skin', 'test', 'mass', 'pedi', 'age', 'class']  # Tên các cột trong dữ liệu\n",
    "dataframe = read_csv(filename, names=names, header=0)  # Đọc dữ liệu từ file CSV và chỉ định tên cột\n",
    "array = dataframe.values  # Chuyển đổi DataFrame thành mảng numpy\n",
    "X = array[:,0:8]  # Tách các đặc trưng (features) từ cột 0 đến cột 7\n",
    "Y = array[:,8]  # Tách biến mục tiêu (target) từ cột 8\n",
    "seed = 7  # Đặt giá trị random seed\n",
    "kfold = KFold(n_splits=10, shuffle=True, random_state=seed)  # Khởi tạo KFold với số n_split và random seed\n",
    "cart = DecisionTreeClassifier()  # Khởi tạo mô hình cây quyết định\n",
    "num_trees = 100  # Số lượng cây trong mô hình bagging\n",
    "model = BaggingClassifier(estimator=cart, n_estimators=num_trees, random_state=seed)  # Sửa lỗi: sử dụng 'estimator' thay vì 'base_estimator'\n",
    "results = cross_val_score(model, X, Y, cv=kfold)  # Đánh giá mô hình bằng cross-validation\n",
    "print(results.mean())  # In ra độ chính xác trung bình của mô hình"
   ]
  },
  {
   "cell_type": "code",
   "execution_count": 16,
   "id": "714b6555-4a33-4d17-a788-d012f115ad44",
   "metadata": {},
   "outputs": [
    {
     "name": "stdout",
     "output_type": "stream",
     "text": [
      "0.7630211893369788\n"
     ]
    }
   ],
   "source": [
    "from sklearn.ensemble import RandomForestClassifier\n",
    "# Random Forest Classification\n",
    "max_features = 3\n",
    "kfold = KFold(n_splits=10, shuffle=True, random_state=7)\n",
    "model = RandomForestClassifier(n_estimators=num_trees, max_features=max_features)\n",
    "results = cross_val_score(model, X, Y, cv=kfold)\n",
    "print(results.mean())"
   ]
  },
  {
   "cell_type": "code",
   "execution_count": 20,
   "id": "3b8efc42-c655-40c9-8153-03e5d14b9533",
   "metadata": {},
   "outputs": [
    {
     "name": "stdout",
     "output_type": "stream",
     "text": [
      "0.7643369788106631\n"
     ]
    }
   ],
   "source": [
    "# Extra Trees Classification\n",
    "from sklearn.ensemble import ExtraTreesClassifier\n",
    "max_features = 7\n",
    "kfold = KFold(n_splits=10, shuffle=True, random_state=7)\n",
    "model = ExtraTreesClassifier(n_estimators=num_trees, max_features=max_features)\n",
    "results = cross_val_score(model, X, Y, cv=kfold)\n",
    "print(results.mean())"
   ]
  },
  {
   "cell_type": "code",
   "execution_count": 26,
   "id": "f7381568-76b0-4181-a899-ca7d1a3b68f2",
   "metadata": {},
   "outputs": [
    {
     "name": "stdout",
     "output_type": "stream",
     "text": [
      "0.7552460697197538\n"
     ]
    }
   ],
   "source": [
    "# AdaBoost Classification\n",
    "from sklearn.ensemble import AdaBoostClassifier\n",
    "num_trees = 30\n",
    "seed=7\n",
    "kfold = KFold(n_splits=10, shuffle=True, random_state=seed)\n",
    "model = AdaBoostClassifier(algorithm='SAMME', n_estimators=num_trees, random_state=seed)\n",
    "results = cross_val_score(model, X, Y, cv=kfold)\n",
    "print(results.mean())"
   ]
  },
  {
   "cell_type": "code",
   "execution_count": 28,
   "id": "fcb2fb5b-3c38-420c-b1c9-2f995c0affb2",
   "metadata": {},
   "outputs": [
    {
     "name": "stdout",
     "output_type": "stream",
     "text": [
      "0.7578947368421053\n"
     ]
    }
   ],
   "source": [
    "# Stochastic Gradient Boosting Classification\n",
    "from sklearn.ensemble import GradientBoostingClassifier\n",
    "seed = 7\n",
    "num_trees = 100\n",
    "kfold = KFold(n_splits=10, shuffle=True, random_state=seed)\n",
    "model = GradientBoostingClassifier(n_estimators=num_trees, random_state=seed)\n",
    "results = cross_val_score(model, X, Y, cv=kfold)\n",
    "print(results.mean())"
   ]
  },
  {
   "cell_type": "code",
   "execution_count": 42,
   "id": "7b9e05df-fa35-4997-91ec-47eb3f449cb1",
   "metadata": {},
   "outputs": [
    {
     "name": "stdout",
     "output_type": "stream",
     "text": [
      "0.769583048530417\n"
     ]
    }
   ],
   "source": [
    "from sklearn.linear_model import LogisticRegression\n",
    "from sklearn.svm import SVC\n",
    "from sklearn.ensemble import VotingClassifier\n",
    "# Tập hợp bỏ phiếu (Voting Ensemble) cho bài toán phân loại\n",
    "kfold = KFold(n_splits=10, shuffle=True, random_state=7)\n",
    "# tạo các mô hình con\n",
    "estimators = []\n",
    "model1 = LogisticRegression(max_iter=200)\n",
    "estimators.append(('logistic', model1))\n",
    "model2 = DecisionTreeClassifier()\n",
    "estimators.append(('cart', model2))\n",
    "model3 = SVC()\n",
    "estimators.append(('svm', model3))\n",
    "# tạo mô hình tổ hợp (ensemble model)\n",
    "ensemble = VotingClassifier(estimators)\n",
    "results = cross_val_score(ensemble, X, Y, cv=kfold)\n",
    "print(results.mean())"
   ]
  },
  {
   "cell_type": "markdown",
   "id": "874f1f70-a029-4a2f-9c54-a2626b68a8d8",
   "metadata": {},
   "source": [
    "# Chương 16: Tune Hyperparameters of a Regression Model with Grid Search\n",
    "\n",
    "- Mục tiêu chương:\n",
    "  + Tìm kiếm và điều chỉnh các siêu tham số của mô hình hồi quy để tối ưu hóa độ chính xác.\n",
    "- Các bước chính:\n",
    "  + Áp dụng GridSearchCV cho các mô hình hồi quy.\n",
    "  + Tinh chỉnh siêu tham số của mô hình hồi quy như alpha trong Ridge Regression.\n",
    "  + Sử dụng cross-validation để kiểm tra các mô hình với các tham số tối ưu."
   ]
  },
  {
   "cell_type": "code",
   "execution_count": 49,
   "id": "8aa31862-ec07-413d-91d3-29106ee0201e",
   "metadata": {},
   "outputs": [
    {
     "name": "stdout",
     "output_type": "stream",
     "text": [
      "0.27610844129292433\n",
      "1.0\n"
     ]
    }
   ],
   "source": [
    "#GridSearchforAlgorithmTuning\n",
    "import numpy\n",
    "from pandas import read_csv\n",
    "from sklearn.linear_model import Ridge\n",
    "from sklearn.model_selection import GridSearchCV\n",
    "filename= 'pima-indians-diabetes.data.csv'\n",
    "names=['preg', 'plas', 'pres', 'skin', 'test', 'mass', 'pedi', 'age', 'class']\n",
    "dataframe=read_csv(filename,names=names,header=0)\n",
    "array=dataframe.values\n",
    "X= array[:,0:8]\n",
    "Y= array[:,8]\n",
    "alphas=numpy.array([1,0.1,0.01,0.001,0.0001,0])\n",
    "param_grid=dict(alpha=alphas)\n",
    "model=Ridge()\n",
    "grid=GridSearchCV(estimator=model,param_grid=param_grid)\n",
    "grid.fit(X,Y)\n",
    "print(grid.best_score_)\n",
    "print(grid.best_estimator_.alpha)"
   ]
  },
  {
   "cell_type": "code",
   "execution_count": 51,
   "id": "fc951b8c-1470-46d3-8caa-4c3c86961860",
   "metadata": {},
   "outputs": [
    {
     "name": "stdout",
     "output_type": "stream",
     "text": [
      "0.2761075573402854\n",
      "0.9779895119966027\n"
     ]
    }
   ],
   "source": [
    "#RandomizedforAlgorithmTuning\n",
    "from scipy.stats import uniform\n",
    "from sklearn.linear_model import Ridge\n",
    "from sklearn.model_selection import RandomizedSearchCV\n",
    "param_grid={'alpha':uniform()}\n",
    "model=Ridge()\n",
    "rsearch=RandomizedSearchCV(estimator=model,param_distributions=param_grid,n_iter=100,\n",
    "random_state=7)\n",
    "rsearch.fit(X,Y)\n",
    "print(rsearch.best_score_)\n",
    "print(rsearch.best_estimator_.alpha)"
   ]
  },
  {
   "cell_type": "markdown",
   "id": "d358465f-ee4e-4d19-84e0-ad1be2058a7f",
   "metadata": {},
   "source": [
    "# Chương 17: Evaluate Performance of Classification Algorithms\n",
    "\n",
    "- Mục tiêu chương:\n",
    "  + Đánh giá hiệu suất của các thuật toán phân loại qua các chỉ số khác nhau.\n",
    "- Các bước chính:\n",
    "  + Sử dụng các thước đo như accuracy, precision, recall, F1-score.\n",
    "  + Vẽ ma trận nhầm lẫn để hiểu rõ hơn về các dự đoán sai.\n",
    "  + Áp dụng ROC Curve và AUC để đánh giá mô hình phân loại."
   ]
  },
  {
   "cell_type": "code",
   "execution_count": 56,
   "id": "c794896d-1385-4657-9581-41a5a8f26e52",
   "metadata": {},
   "outputs": [
    {
     "name": "stdout",
     "output_type": "stream",
     "text": [
      "0.7874015748031497\n"
     ]
    }
   ],
   "source": [
    "# Lưu Model Using Pickle\n",
    "from pandas import read_csv\n",
    "from sklearn.model_selection import train_test_split\n",
    "from sklearn.linear_model import LogisticRegression\n",
    "from pickle import dump\n",
    "from pickle import load\n",
    "# Đọc dữ liệu từ file CSV\n",
    "filename = 'pima-indians-diabetes.data.csv'\n",
    "names = ['preg', 'plas', 'pres', 'skin', 'test', 'mass', 'pedi', 'age', 'class']\n",
    "dataframe = read_csv(filename, names=names, header=0)\n",
    "array = dataframe.values\n",
    "X = array[:,0:8]\n",
    "Y = array[:,8]\n",
    "# Chia dữ liệu thành tập huấn luyện và kiểm tra\n",
    "X_train, X_test, Y_train, Y_test = train_test_split(X, Y, test_size=0.33, random_state=7)\n",
    "# Huấn luyện mô hình với Logistic Regression\n",
    "model = LogisticRegression(max_iter=200)\n",
    "model.fit(X_train, Y_train)\n",
    "# Lưu mô hình xuống ổ đĩa\n",
    "filename = 'finalized_model.sav'\n",
    "dump(model, open(filename, 'wb'))\n",
    "# Tải mô hình từ ổ đĩa\n",
    "loaded_model = load(open(filename, 'rb'))\n",
    "result = loaded_model.score(X_test, Y_test)\n",
    "print(result)"
   ]
  },
  {
   "cell_type": "code",
   "execution_count": 62,
   "id": "0cc2556e-fd03-4796-bff0-e5598406c59e",
   "metadata": {},
   "outputs": [
    {
     "name": "stdout",
     "output_type": "stream",
     "text": [
      "0.7874015748031497\n"
     ]
    }
   ],
   "source": [
    "# Lưu Model Using joblib\n",
    "from pandas import read_csv\n",
    "from sklearn.model_selection import train_test_split\n",
    "from sklearn.linear_model import LogisticRegression\n",
    "from joblib import dump\n",
    "from joblib import load\n",
    "# Đọc dữ liệu và chia tập\n",
    "filename = 'pima-indians-diabetes.data.csv'\n",
    "names = ['preg', 'plas', 'pres', 'skin', 'test', 'mass', 'pedi', 'age', 'class']\n",
    "dataframe = read_csv(filename, names=names, header=0)\n",
    "array = dataframe.values\n",
    "X = array[:,0:8]\n",
    "Y = array[:,8]\n",
    "X_train, X_test, Y_train, Y_test = train_test_split(X, Y, test_size=0.33, random_state=7)\n",
    "# Huấn luyện mô hình\n",
    "model = LogisticRegression(max_iter=200)\n",
    "model.fit(X_train, Y_train)\n",
    "# Lưu mô hình bằng joblib\n",
    "filename = 'finalized_model.sav'\n",
    "dump(model, filename)\n",
    "# Tải mô hình từ ổ đĩa và đánh giá\n",
    "loaded_model = load(filename)\n",
    "result = loaded_model.score(X_test, Y_test)\n",
    "print(result)"
   ]
  }
 ],
 "metadata": {
  "kernelspec": {
   "display_name": "Python [conda env:base] *",
   "language": "python",
   "name": "conda-base-py"
  },
  "language_info": {
   "codemirror_mode": {
    "name": "ipython",
    "version": 3
   },
   "file_extension": ".py",
   "mimetype": "text/x-python",
   "name": "python",
   "nbconvert_exporter": "python",
   "pygments_lexer": "ipython3",
   "version": "3.12.7"
  }
 },
 "nbformat": 4,
 "nbformat_minor": 5
}
