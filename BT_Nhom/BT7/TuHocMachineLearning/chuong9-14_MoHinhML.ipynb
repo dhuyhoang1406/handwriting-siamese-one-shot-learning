{
 "cells": [
  {
   "cell_type": "markdown",
   "id": "7ebf6a0c-83a7-44f6-971a-0bf4970c6cd2",
   "metadata": {},
   "source": [
    "# Chương 9: Spot-Check Algorithms\n",
    "\n",
    "- Sau khi có dữ liệu, bước đầu tiên là thử nghiệm nhanh nhiều thuật toán.\n",
    "- Mục tiêu:\n",
    "  + Tìm thuật toán nào có tiềm năng nhất cho bài toán.\n",
    "  + Không cần tinh chỉnh gì nhiều, chỉ chạy mặc định."
   ]
  },
  {
   "cell_type": "code",
   "execution_count": 77,
   "id": "e4d2ba37-e38a-4323-8179-eeef2f60f319",
   "metadata": {},
   "outputs": [
    {
     "name": "stdout",
     "output_type": "stream",
     "text": [
      "Accuracy: 75.984%\n"
     ]
    }
   ],
   "source": [
    "from pandas import read_csv\n",
    "from numpy import set_printoptions\n",
    "from sklearn.preprocessing import MinMaxScaler\n",
    "from sklearn.model_selection import train_test_split\n",
    "from sklearn.linear_model import LogisticRegression\n",
    "# Đường dẫn đến file CSV\n",
    "filename = 'pima-indians-diabetes.data.csv'\n",
    "names = ['preg', 'plas', 'pres', 'skin', 'test', 'mass', 'pedi', 'age', 'class']\n",
    "# Tải dữ liệu từ file CSV mà không đưa tiêu đề vào\n",
    "dataframe = read_csv(filename, names=names, header=0)\n",
    "# Chuyển đổi DataFrame thành mảng numpy\n",
    "array = dataframe.values\n",
    "# Tách mảng thành các thành phần đầu vào và đầu ra\n",
    "X = array[:, 0:8]  # Các thuộc tính đầu vào\n",
    "Y = array[:, 8]     # Thuộc tính đầu ra\n",
    "# Tách dữ liệu thành tập huấn luyện và tập kiểm tra\n",
    "test_size = 0.33\n",
    "seed = 7\n",
    "X_train, X_test, Y_train, Y_test = train_test_split(X, Y, test_size=test_size, random_state=seed)\n",
    "# Khởi tạo mô hình Logistic Regression\n",
    "model = LogisticRegression(solver='liblinear')  # Tăng số vòng lặp tối đa\n",
    "model.fit(X_train, Y_train)\n",
    "# Đánh giá mô hình\n",
    "result = model.score(X_test, Y_test)\n",
    "print(\"Accuracy: %.3f%%\" % (result * 100.0))"
   ]
  },
  {
   "cell_type": "code",
   "execution_count": 101,
   "id": "d6dd200e-e55d-46e8-8b7e-e82e96467c20",
   "metadata": {},
   "outputs": [
    {
     "name": "stdout",
     "output_type": "stream",
     "text": [
      "Accuracy: 77.086% (5.091%)\n"
     ]
    }
   ],
   "source": [
    "# Đánh giá bằng K-Fold Cross Validation\n",
    "from pandas import read_csv\n",
    "from sklearn.model_selection import KFold\n",
    "from sklearn.model_selection import cross_val_score\n",
    "from sklearn.linear_model import LogisticRegression\n",
    "# Đường dẫn đến file CSV\n",
    "filename = 'pima-indians-diabetes.data.csv'\n",
    "names = ['preg', 'plas', 'pres', 'skin', 'test', 'mass', 'pedi', 'age', 'class']\n",
    "# Tải dữ liệu từ file CSV mà không đưa tiêu đề vào\n",
    "dataframe = read_csv(filename, names=names, header=0)\n",
    "# Chuyển đổi DataFrame thành mảng numpy\n",
    "array = dataframe.values\n",
    "# Tách mảng thành các thành phần đầu vào và đầu ra\n",
    "X = array[:, 0:8]  # Các thuộc tính đầu vào\n",
    "Y = array[:, 8]     # Thuộc tính đầu ra\n",
    "# Đánh giá bằng K-Fold Cross Validation\n",
    "num_folds = 10\n",
    "seed = 7\n",
    "kfold = KFold(n_splits=num_folds, shuffle=True, random_state=seed)  # Bật xáo trộn\n",
    "model = LogisticRegression(solver='liblinear')\n",
    "results = cross_val_score(model, X, Y, cv=kfold)\n",
    "# In kết quả\n",
    "print(\"Accuracy: %.3f%% (%.3f%%)\" % (results.mean() * 100.0, results.std() * 100.0))"
   ]
  },
  {
   "cell_type": "code",
   "execution_count": 107,
   "id": "cff419f2-b925-418f-b746-dfbb976c48e5",
   "metadata": {},
   "outputs": [
    {
     "name": "stdout",
     "output_type": "stream",
     "text": [
      "Accuracy: 76.823% (42.196%)\n"
     ]
    }
   ],
   "source": [
    "# Đánh giá bằng Leave-One-Out Cross Validation\n",
    "from sklearn.model_selection import LeaveOneOut\n",
    "num_folds = 10\n",
    "loocv = LeaveOneOut()\n",
    "model = LogisticRegression(solver='liblinear')\n",
    "results = cross_val_score(model, X, Y, cv=loocv)\n",
    "print(\"Accuracy: %.3f%% (%.3f%%)\" % (results.mean()*100.0, results.std()*100.0))"
   ]
  },
  {
   "cell_type": "code",
   "execution_count": 119,
   "id": "5e9d0f2a-de42-465e-ac5e-6b73e13c1a9b",
   "metadata": {},
   "outputs": [
    {
     "name": "stdout",
     "output_type": "stream",
     "text": [
      "Accuracy: 76.535% (1.681%)\n"
     ]
    }
   ],
   "source": [
    "# Đánh giá bằng Repeated K-Fold Cross Validation\n",
    "from sklearn.model_selection import ShuffleSplit\n",
    "n_splits = 10\n",
    "test_size = 0.33\n",
    "seed = 7\n",
    "kfold = ShuffleSplit(n_splits=n_splits, test_size=test_size, random_state=seed)\n",
    "model = LogisticRegression(solver='liblinear')\n",
    "results = cross_val_score(model, X, Y, cv=kfold)\n",
    "print(\"Accuracy: %.3f%% (%.3f%%)\" % (results.mean()*100.0, results.std()*100.0))"
   ]
  },
  {
   "cell_type": "markdown",
   "id": "ddfcc881-53d9-4608-8cae-31869feef5cc",
   "metadata": {},
   "source": [
    "# Chương 10: Machine Learning Algorithm Performance Metrics\n",
    "\n",
    "- Mục tiêu chương:\n",
    "  + Hiểu về các thước đo đánh giá hiệu năng mô hình.\n",
    "  + Áp dụng đúng thước đo cho từng bài toán: classification hoặc regression.\n",
    "- Các phần chính:\n",
    "  + Đánh giá classification model.\n",
    "  + Đánh giá regression model."
   ]
  },
  {
   "cell_type": "code",
   "execution_count": 134,
   "id": "aac0c390-1bcb-4c3f-83a2-f9db5f07d1c2",
   "metadata": {},
   "outputs": [
    {
     "name": "stdout",
     "output_type": "stream",
     "text": [
      "Accuracy: 0.771 (0.051)\n"
     ]
    }
   ],
   "source": [
    "# Độ chính xác (Classification Accuracy)\n",
    "kfold = KFold(n_splits=10, shuffle=True, random_state=7)\n",
    "model = LogisticRegression(solver='liblinear')\n",
    "scoring = 'accuracy'\n",
    "results = cross_val_score(model, X, Y, cv=kfold, scoring=scoring)\n",
    "print(\"Accuracy: %.3f (%.3f)\" % (results.mean(), results.std()))"
   ]
  },
  {
   "cell_type": "code",
   "execution_count": 138,
   "id": "9225873f-b902-4a80-858b-7395154ffa91",
   "metadata": {},
   "outputs": [
    {
     "name": "stdout",
     "output_type": "stream",
     "text": [
      "Logloss: -0.494 (0.042)\n"
     ]
    }
   ],
   "source": [
    "# Logarithmic Loss (Log Loss)\n",
    "kfold = KFold(n_splits=10, shuffle=True, random_state=7)\n",
    "model = LogisticRegression(solver='liblinear')\n",
    "scoring = 'neg_log_loss'\n",
    "results = cross_val_score(model, X, Y, cv=kfold, scoring=scoring)\n",
    "print(\"Logloss: %.3f (%.3f)\" % (results.mean(), results.std()))"
   ]
  },
  {
   "cell_type": "code",
   "execution_count": 142,
   "id": "c51132b5-a1ed-4135-a729-ed26d57fb30b",
   "metadata": {},
   "outputs": [
    {
     "name": "stdout",
     "output_type": "stream",
     "text": [
      "AUC: 0.826 (0.050)\n"
     ]
    }
   ],
   "source": [
    "# Area Under ROC Curve (AUC)\n",
    "kfold = KFold(n_splits=10, shuffle=True, random_state=7)\n",
    "model = LogisticRegression(solver='liblinear')\n",
    "scoring = 'roc_auc'\n",
    "results = cross_val_score(model, X, Y, cv=kfold, scoring=scoring)\n",
    "print(\"AUC: %.3f (%.3f)\" % (results.mean(), results.std()))"
   ]
  },
  {
   "cell_type": "code",
   "execution_count": 150,
   "id": "875bbb30-6db8-40c1-acbb-635d62cb348b",
   "metadata": {},
   "outputs": [
    {
     "name": "stdout",
     "output_type": "stream",
     "text": [
      "[[141  21]\n",
      " [ 40  52]]\n"
     ]
    }
   ],
   "source": [
    " # Cross Validation Classification Confusion Matrix\n",
    "from sklearn.metrics import confusion_matrix\n",
    "test_size = 0.33\n",
    "seed = 7\n",
    "X_train, X_test, Y_train, Y_test = train_test_split(X, Y, test_size=test_size,\n",
    "random_state=seed)\n",
    "model = LogisticRegression(solver='liblinear')\n",
    "model.fit(X_train, Y_train)\n",
    "predicted = model.predict(X_test)\n",
    "matrix = confusion_matrix(Y_test, predicted)\n",
    "print(matrix)"
   ]
  },
  {
   "cell_type": "code",
   "execution_count": 158,
   "id": "52f66294-35b3-4e19-bf74-f742c018f2a0",
   "metadata": {},
   "outputs": [
    {
     "name": "stdout",
     "output_type": "stream",
     "text": [
      "              precision    recall  f1-score   support\n",
      "\n",
      "         0.0       0.78      0.87      0.82       162\n",
      "         1.0       0.71      0.57      0.63        92\n",
      "\n",
      "    accuracy                           0.76       254\n",
      "   macro avg       0.75      0.72      0.73       254\n",
      "weighted avg       0.75      0.76      0.75       254\n",
      "\n"
     ]
    }
   ],
   "source": [
    "# Cross Validation Classification Report\n",
    "from sklearn.metrics import classification_report\n",
    "test_size = 0.33\n",
    "seed = 7\n",
    "X_train, X_test, Y_train, Y_test = train_test_split(X, Y, test_size=test_size,\n",
    "random_state=seed)\n",
    "model = LogisticRegression(solver='liblinear')\n",
    "model.fit(X_train, Y_train)\n",
    "predicted = model.predict(X_test)\n",
    "report = classification_report(Y_test, predicted)\n",
    "print(report)"
   ]
  },
  {
   "cell_type": "code",
   "execution_count": 164,
   "id": "e9905b2a-290d-4065-9cde-b8bec5a7d327",
   "metadata": {},
   "outputs": [
    {
     "name": "stdout",
     "output_type": "stream",
     "text": [
      "MAE: -0.337 (0.020)\n"
     ]
    }
   ],
   "source": [
    " # Cross Validation Regression MAE\n",
    "from sklearn.linear_model import LinearRegression\n",
    "kfold = KFold(n_splits=10, shuffle=True, random_state=7)\n",
    "model = LinearRegression(solver='liblinear')\n",
    "scoring = 'neg_mean_absolute_error'\n",
    " results = cross_val_score(model, X, Y, cv=kfold, scoring=scoring)\n",
    " print(\"MAE: %.3f (%.3f)\" % (results.mean(), results.std()))"
   ]
  },
  {
   "cell_type": "code",
   "execution_count": 55,
   "id": "f67868e9-40fe-4f44-bee8-ebac68280f80",
   "metadata": {},
   "outputs": [
    {
     "name": "stdout",
     "output_type": "stream",
     "text": [
      "MSE: -23.747 (11.143)\n"
     ]
    }
   ],
   "source": [
    "# Cross Validation Regression MSE\n",
    "from pandas import read_csv\n",
    "from sklearn.model_selection import KFold, cross_val_score\n",
    "filename = 'housing.csv'\n",
    "names = ['CRIM', 'ZN', 'INDUS', 'CHAS', 'NOX', 'RM', 'AGE',\n",
    "         'DIS', 'RAD', 'TAX', 'PTRATIO', 'B', 'LSTAT', 'MEDV']\n",
    "dataframe = read_csv(filename, sep=\",\", names=names, header=0)\n",
    "array = dataframe.values\n",
    "X = array[:, 0:13]\n",
    "Y = array[:, 13]\n",
    "kfold = KFold(n_splits=10, shuffle=True, random_state=7)\n",
    "model = LinearRegression()\n",
    "scoring = 'neg_mean_squared_error'\n",
    "results = cross_val_score(model, X, Y, cv=kfold, scoring=scoring)\n",
    "print(\"MSE: %.3f (%.3f)\" % (results.mean(), results.std()))"
   ]
  },
  {
   "cell_type": "code",
   "execution_count": 63,
   "id": "36f21b19-443e-4512-84b7-9b144ee46ad2",
   "metadata": {},
   "outputs": [
    {
     "name": "stdout",
     "output_type": "stream",
     "text": [
      "R^2: 0.718 (0.099)\n"
     ]
    }
   ],
   "source": [
    "# Cross Validation Regression R^2\n",
    "model = LinearRegression()\n",
    "scoring = 'r2'\n",
    "results = cross_val_score(model, X, Y, cv=kfold, scoring=scoring)\n",
    "print(\"R^2: %.3f (%.3f)\" % (results.mean(), results.std()))"
   ]
  },
  {
   "cell_type": "markdown",
   "id": "c5c51f1b-dd71-43ff-9a83-bfd86268d01c",
   "metadata": {},
   "source": [
    "# Chương 11: Spot-Check Classification Algorithms\n",
    "\n",
    "- Mục tiêu chương:\n",
    "  + So sánh hiệu suất nhiều thuật toán classification khác nhau.\n",
    "  + Sử dụng K-fold cross validation để đánh giá mô hình một cách công bằng.\n",
    "- Các mô hình được sử dụng: LR, LDA, KNN, CART, NB, SVM"
   ]
  },
  {
   "cell_type": "code",
   "execution_count": 94,
   "id": "2895e3d0-1281-4e74-aa84-4cfb6c40a784",
   "metadata": {},
   "outputs": [
    {
     "name": "stdout",
     "output_type": "stream",
     "text": [
      "0.7721633629528366\n"
     ]
    }
   ],
   "source": [
    "# Logistic Regression Classification\n",
    "from pandas import read_csv  # Nhập thư viện để đọc file CSV\n",
    "from sklearn.model_selection import KFold  # Nhập KFold để thực hiện cross-validation\n",
    "from sklearn.model_selection import cross_val_score  # Nhập cross_val_score để đánh giá mô hình\n",
    "from sklearn.linear_model import LogisticRegression  # Nhập LogisticRegression từ scikit-learn\n",
    "filename = 'pima-indians-diabetes.data.csv'  # Đường dẫn tới file dữ liệu\n",
    "names = ['preg', 'plas', 'pres', 'skin', 'test', 'mass', 'pedi', 'age', 'class']  # Tên các cột trong dữ liệu\n",
    "dataframe = read_csv(filename, names=names, header=0)  # Đọc dữ liệu từ file CSV và chỉ định tên cột\n",
    "array = dataframe.values  # Chuyển đổi DataFrame thành mảng numpy\n",
    "X = array[:,0:8]  # Tách các đặc trưng (features) từ cột 0 đến cột 7\n",
    "Y = array[:,8]  # Tách biến mục tiêu (target) từ cột 8\n",
    "num_folds = 10  # Số lượng fold cho cross-validation\n",
    "kfold = KFold(n_splits=num_folds, shuffle=True, random_state=7)  # Khởi tạo KFold với số fold và random seed\n",
    "model = LogisticRegression(max_iter=200)  # Khởi tạo mô hình Logistic Regression với số vòng lặp tối đa\n",
    "results = cross_val_score(model, X, Y, cv=kfold)  # Đánh giá mô hình bằng cross-validation\n",
    "print(results.mean())  # In ra độ chính xác trung bình của mô hình"
   ]
  },
  {
   "cell_type": "code",
   "execution_count": 77,
   "id": "5df73205-a8f2-4496-9e58-1b1f1948607e",
   "metadata": {},
   "outputs": [
    {
     "name": "stdout",
     "output_type": "stream",
     "text": [
      "0.7669685577580315\n"
     ]
    }
   ],
   "source": [
    "# LDA Classification\n",
    "from sklearn.discriminant_analysis import LinearDiscriminantAnalysis\n",
    "model = LinearDiscriminantAnalysis()\n",
    "results = cross_val_score(model, X, Y, cv=kfold)\n",
    "print(results.mean())"
   ]
  },
  {
   "cell_type": "code",
   "execution_count": 81,
   "id": "e008ee8a-d58f-4107-a338-2d08243b4785",
   "metadata": {},
   "outputs": [
    {
     "name": "stdout",
     "output_type": "stream",
     "text": [
      "0.7109876965140123\n"
     ]
    }
   ],
   "source": [
    "# KNN Classification\n",
    "from sklearn.neighbors import KNeighborsClassifier\n",
    "model = KNeighborsClassifier()\n",
    "results = cross_val_score(model, X, Y, cv=kfold)\n",
    "print(results.mean())"
   ]
  },
  {
   "cell_type": "code",
   "execution_count": 83,
   "id": "16639bc1-cd97-442c-936f-a0873ddddc64",
   "metadata": {},
   "outputs": [
    {
     "name": "stdout",
     "output_type": "stream",
     "text": [
      "0.7591421736158578\n"
     ]
    }
   ],
   "source": [
    "# Gaussian Naive Bayes Classification\n",
    "from sklearn.naive_bayes import GaussianNB\n",
    "model = GaussianNB()\n",
    "results = cross_val_score(model, X, Y, cv=kfold)\n",
    "print(results.mean())"
   ]
  },
  {
   "cell_type": "code",
   "execution_count": 96,
   "id": "70a1df21-3f30-4433-8f23-f40159f40c4b",
   "metadata": {},
   "outputs": [
    {
     "name": "stdout",
     "output_type": "stream",
     "text": [
      "0.760457963089542\n"
     ]
    }
   ],
   "source": [
    "# SVM Classification\n",
    "from sklearn.svm import SVC\n",
    "model = SVC()\n",
    "results = cross_val_score(model, X, Y, cv=kfold)\n",
    "print(results.mean())"
   ]
  },
  {
   "cell_type": "markdown",
   "id": "294145c2-ea2d-448f-a640-027845821aa1",
   "metadata": {},
   "source": [
    "# Chương 12: Spot-Check Regression Algorithms\n",
    "\n",
    "- Mục tiêu chương:\n",
    "  + So sánh hiệu suất giữa các thuật toán hồi quy phổ biến.\n",
    "  + Áp dụng metric R² để đánh giá mức độ giải thích dữ liệu.\n",
    "- Các mô hình được sử dụng: LR, LASSO, ElasticNet, CART, SVR"
   ]
  },
  {
   "cell_type": "code",
   "execution_count": 112,
   "id": "351342b2-e8f6-4789-8e87-628db59daed5",
   "metadata": {},
   "outputs": [
    {
     "name": "stdout",
     "output_type": "stream",
     "text": [
      "-23.746501811313504\n"
     ]
    }
   ],
   "source": [
    "# Linear Regression\n",
    "from pandas import read_csv  # Nhập thư viện để đọc file CSV\n",
    "from sklearn.model_selection import KFold  # Nhập KFold để thực hiện cross-validation\n",
    "from sklearn.model_selection import cross_val_score  # Nhập cross_val_score để đánh giá mô hình\n",
    "from sklearn.linear_model import LinearRegression  # Nhập LinearRegression từ scikit-learn\n",
    "filename = 'housing.csv'  # Đường dẫn tới file dữ liệu\n",
    "names = ['CRIM', 'ZN', 'INDUS', 'CHAS', 'NOX', 'RM', 'AGE', 'DIS', 'RAD', 'TAX', 'PTRATIO', 'B', 'LSTAT', 'MEDV']  # Tên các cột trong dữ liệu\n",
    "dataframe = read_csv(filename, sep=\",\", names=names, header=0)  # Đọc dữ liệu từ file CSV và chỉ định tên cột\n",
    "array = dataframe.values  # Chuyển đổi DataFrame thành mảng numpy\n",
    "X = array[:, 0:13]  # Tách các đặc trưng (features) từ cột 0 đến cột 12\n",
    "Y = array[:, 13]  # Tách biến mục tiêu (target) từ cột 13\n",
    "kfold = KFold(n_splits=10, shuffle=True, random_state=7)  # Khởi tạo KFold với số fold và random seed\n",
    "model = LinearRegression()  # Khởi tạo mô hình Linear Regression\n",
    "scoring = 'neg_mean_squared_error'  # Đặt tham số đánh giá là độ lỗi bình phương âm\n",
    "results = cross_val_score(model, X, Y, cv=kfold, scoring=scoring)  # Đánh giá mô hình bằng cross-validation\n",
    "print(results.mean())  # In ra độ chính xác trung bình của mô hình"
   ]
  },
  {
   "cell_type": "code",
   "execution_count": 114,
   "id": "1e23a344-15fd-4681-9c75-bc893f42a75d",
   "metadata": {},
   "outputs": [
    {
     "name": "stdout",
     "output_type": "stream",
     "text": [
      "-23.889890185053424\n"
     ]
    }
   ],
   "source": [
    "# Ridge Regression\n",
    "from sklearn.linear_model import Ridge\n",
    "model = Ridge()\n",
    "scoring = 'neg_mean_squared_error'\n",
    "results = cross_val_score(model, X, Y, cv=kfold, scoring=scoring)\n",
    "print(results.mean())"
   ]
  },
  {
   "cell_type": "code",
   "execution_count": 116,
   "id": "3a5a7a6a-4934-4239-9e50-e498eabf69a1",
   "metadata": {},
   "outputs": [
    {
     "name": "stdout",
     "output_type": "stream",
     "text": [
      "-28.74589007585154\n"
     ]
    }
   ],
   "source": [
    "# Lasso Regression\n",
    "from sklearn.linear_model import Lasso\n",
    "model = Lasso()\n",
    "scoring = 'neg_mean_squared_error'\n",
    "results = cross_val_score(model, X, Y, cv=kfold, scoring=scoring)\n",
    "print(results.mean())"
   ]
  },
  {
   "cell_type": "code",
   "execution_count": 118,
   "id": "e37c7671-6771-4b96-970c-b0cf16f80fdd",
   "metadata": {},
   "outputs": [
    {
     "name": "stdout",
     "output_type": "stream",
     "text": [
      "-27.908420360231055\n"
     ]
    }
   ],
   "source": [
    "# ElasticNet Regression\n",
    "from sklearn.linear_model import ElasticNet\n",
    "model = ElasticNet()\n",
    "scoring = 'neg_mean_squared_error'\n",
    "results = cross_val_score(model, X, Y, cv=kfold, scoring=scoring)\n",
    "print(results.mean())"
   ]
  },
  {
   "cell_type": "code",
   "execution_count": 120,
   "id": "f93d6765-73d3-4d3e-b330-563608ebc6a0",
   "metadata": {},
   "outputs": [
    {
     "name": "stdout",
     "output_type": "stream",
     "text": [
      "-38.852320266666666\n"
     ]
    }
   ],
   "source": [
    "# KNN Regression\n",
    "from sklearn.neighbors import KNeighborsRegressor\n",
    "model = KNeighborsRegressor()\n",
    "scoring = 'neg_mean_squared_error'\n",
    "results = cross_val_score(model, X, Y, cv=kfold, scoring=scoring)\n",
    "print(results.mean())"
   ]
  },
  {
   "cell_type": "code",
   "execution_count": 122,
   "id": "a2a4ba3b-5e3f-44c2-9cc9-0f766bf793eb",
   "metadata": {},
   "outputs": [
    {
     "name": "stdout",
     "output_type": "stream",
     "text": [
      "-22.87118\n"
     ]
    }
   ],
   "source": [
    "# Decision Tree Regression\n",
    "from sklearn.tree import DecisionTreeRegressor\n",
    "model = DecisionTreeRegressor()\n",
    "scoring = 'neg_mean_squared_error'\n",
    "results = cross_val_score(model, X, Y, cv=kfold, scoring=scoring)\n",
    "print(results.mean())"
   ]
  },
  {
   "cell_type": "code",
   "execution_count": 124,
   "id": "d354a0fb-41cb-4019-885d-cd2ae7d06841",
   "metadata": {},
   "outputs": [
    {
     "name": "stdout",
     "output_type": "stream",
     "text": [
      "-67.64140705473743\n"
     ]
    }
   ],
   "source": [
    "# SVM Regression\n",
    "from sklearn.svm import SVR\n",
    "model = SVR()\n",
    "scoring = 'neg_mean_squared_error'\n",
    "results = cross_val_score(model, X, Y, cv=kfold, scoring=scoring)\n",
    "print(results.mean())"
   ]
  },
  {
   "cell_type": "markdown",
   "id": "926b422d-14c3-473c-a0ee-48c68dd2e909",
   "metadata": {},
   "source": [
    "# Chương 13: Compare Classification Algorithms with Standardized Data\n",
    "\n",
    "- Mục tiêu chương:\n",
    "  + So sánh các mô hình classification trong điều kiện dữ liệu đã được chuẩn hoá.\n",
    "- Các bước chính:\n",
    "  + Sử dụng Pipeline để kết hợp StandardScaler và mô hình."
   ]
  },
  {
   "cell_type": "code",
   "execution_count": 141,
   "id": "9ac0d66e-097d-4024-8bd6-0726dc602477",
   "metadata": {},
   "outputs": [
    {
     "name": "stdout",
     "output_type": "stream",
     "text": [
      "LR: 0.770865 (0.050905)\n",
      "LDA: 0.766969 (0.047966)\n",
      "KNN: 0.710988 (0.050792)\n",
      "CART: 0.682433 (0.054806)\n",
      "NB: 0.759142 (0.038960)\n",
      "SVM: 0.760458 (0.034712)\n"
     ]
    },
    {
     "data": {
      "image/png": "[encoded data removed]",
      "text/plain": [
       "<Figure size 640x480 with 1 Axes>"
      ]
     },
     "metadata": {},
     "output_type": "display_data"
    }
   ],
   "source": [
    "# Compare Algorithms\n",
    "from pandas import read_csv  # Nhập thư viện để đọc file CSV\n",
    "from matplotlib import pyplot  # Nhập thư viện để vẽ đồ thị\n",
    "# load dataset\n",
    "filename = 'pima-indians-diabetes.data.csv'  # Đường dẫn tới file dữ liệu\n",
    "names = ['preg', 'plas', 'pres', 'skin', 'test', 'mass', 'pedi', 'age', 'class']  # Tên các cột trong dữ liệu\n",
    "dataframe = read_csv(filename, names=names, header=0)  # Đọc dữ liệu từ file CSV và chỉ định tên cột\n",
    "array = dataframe.values  # Chuyển đổi DataFrame thành mảng numpy\n",
    "X = array[:,0:8]  # Tách các đặc trưng (features) từ cột 0 đến cột 7\n",
    "Y = array[:,8]  # Tách biến mục tiêu (target) từ cột 8\n",
    "# prepare models\n",
    "models = []  # Khởi tạo danh sách mô hình\n",
    "models.append(('LR', LogisticRegression(solver='liblinear', max_iter=200)))  # Thêm Logistic Regression vào danh sách\n",
    "models.append(('LDA', LinearDiscriminantAnalysis()))  # Thêm LDA vào danh sách\n",
    "models.append(('KNN', KNeighborsClassifier()))  # Thêm KNN vào danh sách\n",
    "models.append(('CART', DecisionTreeClassifier()))  # Thêm Decision Tree vào danh sách\n",
    "models.append(('NB', GaussianNB()))  # Thêm Naive Bayes vào danh sách\n",
    "models.append(('SVM', SVC()))  # Thêm SVM vào danh sách\n",
    "# evaluate each model in turn\n",
    "results = []  # Khởi tạo danh sách kết quả\n",
    "names = []  # Khởi tạo danh sách tên mô hình\n",
    "scoring = 'accuracy'  # Đặt tham số đánh giá là độ chính xác\n",
    "for name, model in models:  # Duyệt qua từng mô hình\n",
    "    kfold = KFold(n_splits=10, shuffle=True, random_state=7)  # Khởi tạo KFold với số n_split và random seed\n",
    "    cv_results = cross_val_score(model, X, Y, cv=kfold, scoring=scoring)  # Đánh giá mô hình bằng cross-validation\n",
    "    results.append(cv_results)  # Thêm kết quả vào danh sách\n",
    "    names.append(name)  # Thêm tên mô hình vào danh sách\n",
    "    msg = \"%s: %f (%f)\" % (name, cv_results.mean(), cv_results.std())  # Tạo thông điệp hiển thị kết quả\n",
    "    print(msg)  # In ra kết quả\n",
    "# boxplot algorithm comparison\n",
    "fig = pyplot.figure()  # Tạo một figure mới\n",
    "fig.suptitle('Algorithm Comparison')  # Đặt tiêu đề cho đồ thị\n",
    "ax = fig.add_subplot(111)  # Thêm subplot vào figure\n",
    "pyplot.boxplot(results)  # Vẽ boxplot cho các kết quả\n",
    "ax.set_xticklabels(names)  # Đặt nhãn cho trục x\n",
    "pyplot.show()  # Hiển thị đồ thị"
   ]
  },
  {
   "cell_type": "markdown",
   "id": "cc673bdb-c161-463e-8033-51a8a16864c3",
   "metadata": {},
   "source": [
    "# Chương 14: Compare Regression Algorithms with Standardized Data\n",
    "\n",
    "- Mục tiêu chương:\n",
    "  + So sánh các mô hình hồi quy trong điều kiện dữ liệu đã được chuẩn hoá.\n",
    "- Các bước chính:\n",
    "  + Sử dụng Pipeline để kết hợp StandardScaler và các mô hình regression."
   ]
  },
  {
   "cell_type": "code",
   "execution_count": 155,
   "id": "6e687d23-af7e-480a-a48e-67a898a11bcd",
   "metadata": {},
   "outputs": [
    {
     "name": "stdout",
     "output_type": "stream",
     "text": [
      "0.7669685577580315\n"
     ]
    }
   ],
   "source": [
    "# Tạo một pipeline chuẩn hóa dữ liệu và sau đó tạo mô hình\n",
    "from pandas import read_csv  # Nhập thư viện để đọc file CSV\n",
    "from sklearn.model_selection import KFold  # Nhập KFold để thực hiện cross-validation\n",
    "from sklearn.model_selection import cross_val_score  # Nhập cross_val_score để đánh giá mô hình\n",
    "from sklearn.preprocessing import StandardScaler  # Nhập StandardScaler để chuẩn hóa dữ liệu\n",
    "from sklearn.pipeline import Pipeline  # Nhập Pipeline để tạo chuỗi quy trình\n",
    "from sklearn.discriminant_analysis import LinearDiscriminantAnalysis  # Nhập LDA\n",
    "filename = 'pima-indians-diabetes.data.csv'  # Đường dẫn tới file dữ liệu\n",
    "names = ['preg', 'plas', 'pres', 'skin', 'test', 'mass', 'pedi', 'age', 'class']  # Tên các cột trong dữ liệu\n",
    "dataframe = read_csv(filename, names=names, header=0)  # Đọc dữ liệu từ file CSV và chỉ định tên cột\n",
    "array = dataframe.values  # Chuyển đổi DataFrame thành mảng numpy\n",
    "X = array[:,0:8]  # Tách các đặc trưng (features) từ cột 0 đến cột 7\n",
    "Y = array[:,8]  # Tách biến mục tiêu (target) từ cột 8\n",
    "# Tạo pipeline\n",
    "estimators = []  # Khởi tạo danh sách các bước trong pipeline\n",
    "estimators.append(('standardize', StandardScaler()))  # Thêm bước chuẩn hóa vào pipeline\n",
    "estimators.append(('lda', LinearDiscriminantAnalysis()))  # Thêm mô hình LDA vào pipeline\n",
    "model = Pipeline(estimators)  # Tạo pipeline từ danh sách các bước\n",
    "# Đánh giá pipeline\n",
    "kfold = KFold(n_splits=10, shuffle=True, random_state=7)  # Khởi tạo KFold với số n_split và random seed\n",
    "results = cross_val_score(model, X, Y, cv=kfold)  # Đánh giá pipeline bằng cross-validation\n",
    "print(results.mean())  # In ra độ chính xác trung bình của mô hình"
   ]
  },
  {
   "cell_type": "code",
   "execution_count": 169,
   "id": "7134ca97-d7fa-49b7-89e6-5c34533db49e",
   "metadata": {},
   "outputs": [
    {
     "name": "stdout",
     "output_type": "stream",
     "text": [
      "0.7721633629528366\n"
     ]
    }
   ],
   "source": [
    "# Tạo một pipeline để trích xuất đặc trưng từ dữ liệu và sau đó tạo mô hình\n",
    "from sklearn.decomposition import PCA  # Nhập PCA để giảm số chiều dữ liệu\n",
    "from sklearn.feature_selection import SelectKBest  # Nhập SelectKBest để chọn đặc trưng tốt nhất\n",
    "from sklearn.pipeline import FeatureUnion  # Nhập FeatureUnion để kết hợp các bước trích xuất đặc trưng\n",
    "# Tạo feature union\n",
    "features = []  # Khởi tạo danh sách các bước trích xuất đặc trưng\n",
    "features.append(('pca', PCA(n_components=3)))  # Thêm bước PCA vào danh sách để giảm chiều xuống 3\n",
    "features.append(('select_best', SelectKBest(k=6)))  # Thêm bước chọn đặc trưng tốt nhất vào danh sách\n",
    "feature_union = FeatureUnion(features)  # Tạo feature union từ danh sách các bước\n",
    "# Tạo pipeline\n",
    "estimators = []  # Khởi tạo danh sách các bước trong pipeline\n",
    "estimators.append(('feature_union', feature_union))  # Thêm bước feature union vào pipeline\n",
    "estimators.append(('logistic', LogisticRegression(max_iter=200)))  # Thêm mô hình Logistic Regression vào pipeline\n",
    "model = Pipeline(estimators)  # Tạo pipeline từ danh sách các bước\n",
    "# Đánh giá pipeline\n",
    "kfold = KFold(n_splits=10, shuffle=True, random_state=7)  # Khởi tạo KFold với số n_split và random seed\n",
    "results = cross_val_score(model, X, Y, cv=kfold)  # Đánh giá pipeline bằng cross-validation\n",
    "print(results.mean())  # In ra độ chính xác trung bình của mô hình"
   ]
  }
 ],
 "metadata": {
  "kernelspec": {
   "display_name": "Python [conda env:base] *",
   "language": "python",
   "name": "conda-base-py"
  },
  "language_info": {
   "codemirror_mode": {
    "name": "ipython",
    "version": 3
   },
   "file_extension": ".py",
   "mimetype": "text/x-python",
   "name": "python",
   "nbconvert_exporter": "python",
   "pygments_lexer": "ipython3",
   "version": "3.12.7"
  }
 },
 "nbformat": 4,
 "nbformat_minor": 5
}
