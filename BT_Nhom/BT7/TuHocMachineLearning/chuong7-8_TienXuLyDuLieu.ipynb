{
 "cells": [
  {
   "cell_type": "markdown",
   "id": "b52d44ea-5db6-4717-95e2-cd6a61b7accf",
   "metadata": {},
   "source": [
    "# Chương 7: Prepare Your Data For Machine Learning\n",
    "\n",
    "- Cần tiền xử lý dữ liệu để giúp thuật toán học tốt hơn, nhanh hơn.\n",
    "- Các phương pháp phổ biến:\n",
    "  + Rescale\n",
    "  + Standardize\n",
    "  + Normalize\n",
    "  + Binarize"
   ]
  },
  {
   "cell_type": "code",
   "execution_count": 15,
   "id": "d8c2f00a-4813-4ba5-910d-a6ef92da4639",
   "metadata": {},
   "outputs": [
    {
     "name": "stdout",
     "output_type": "stream",
     "text": [
      "[[0.353 0.744 0.59  0.354 0.    0.501 0.234 0.483]\n",
      " [0.059 0.427 0.541 0.293 0.    0.396 0.117 0.167]\n",
      " [0.471 0.92  0.525 0.    0.    0.347 0.254 0.183]\n",
      " [0.059 0.447 0.541 0.232 0.111 0.419 0.038 0.   ]\n",
      " [0.    0.688 0.328 0.354 0.199 0.642 0.944 0.2  ]]\n"
     ]
    }
   ],
   "source": [
    "# Rescale dữ liệu về khoảng [0,1]\n",
    "from pandas import read_csv\n",
    "from numpy import set_printoptions\n",
    "from sklearn.preprocessing import MinMaxScaler\n",
    "# Đường dẫn đến file CSV\n",
    "filename = 'pima-indians-diabetes.data.csv'\n",
    "names = ['preg', 'plas', 'pres', 'skin', 'test', 'mass', 'pedi', 'age', 'class']\n",
    "# Tải dữ liệu từ file CSV mà không đưa tiêu đề vào\n",
    "dataframe = read_csv(filename, names=names, header=0)\n",
    "# Chuyển đổi DataFrame thành mảng numpy\n",
    "array = dataframe.values\n",
    "# Tách mảng thành các thành phần đầu vào và đầu ra\n",
    "X = array[:, 0:8]  # Các thuộc tính đầu vào\n",
    "Y = array[:, 8]     # Thuộc tính đầu ra\n",
    "# Khởi tạo bộ chuyển đổi MinMaxScaler\n",
    "scaler = MinMaxScaler(feature_range=(0, 1))\n",
    "# Chuyển đổi dữ liệu về khoảng [0, 1]\n",
    "rescaledX = scaler.fit_transform(X)\n",
    "# Tóm tắt dữ liệu đã chuyển đổi\n",
    "set_printoptions(precision=3)\n",
    "print(rescaledX[0:5,:])  # In ra dữ liệu đã chuyển đổi"
   ]
  },
  {
   "cell_type": "code",
   "execution_count": 31,
   "id": "2b375eab-712d-40f0-96c7-ab444cbc9c94",
   "metadata": {},
   "outputs": [
    {
     "name": "stdout",
     "output_type": "stream",
     "text": [
      "[[ 0.64   0.848  0.15   0.907 -0.693  0.204  0.468  1.426]\n",
      " [-0.845 -1.123 -0.161  0.531 -0.693 -0.684 -0.365 -0.191]\n",
      " [ 1.234  1.944 -0.264 -1.288 -0.693 -1.103  0.604 -0.106]\n",
      " [-0.845 -0.998 -0.161  0.155  0.123 -0.494 -0.921 -1.042]\n",
      " [-1.142  0.504 -1.505  0.907  0.766  1.41   5.485 -0.02 ]]\n"
     ]
    }
   ],
   "source": [
    "# Standardize dữ liệu: mean = 0, std = 1\n",
    "from sklearn.preprocessing import StandardScaler\n",
    "scaler = StandardScaler().fit(X)\n",
    "rescaledX = scaler.transform(X)\n",
    "# Tóm tắt dữ liệu đã chuyển đổi\n",
    "set_printoptions(precision=3)\n",
    "print(rescaledX[0:5,:])"
   ]
  },
  {
   "cell_type": "code",
   "execution_count": 33,
   "id": "98918a84-ea15-43ce-af40-7c1a71c53836",
   "metadata": {},
   "outputs": [
    {
     "name": "stdout",
     "output_type": "stream",
     "text": [
      "[[0.034 0.828 0.403 0.196 0.    0.188 0.004 0.28 ]\n",
      " [0.008 0.716 0.556 0.244 0.    0.224 0.003 0.261]\n",
      " [0.04  0.924 0.323 0.    0.    0.118 0.003 0.162]\n",
      " [0.007 0.588 0.436 0.152 0.622 0.186 0.001 0.139]\n",
      " [0.    0.596 0.174 0.152 0.731 0.188 0.01  0.144]]\n"
     ]
    }
   ],
   "source": [
    "# Normalize từng sample (vector có norm = 1)\n",
    "from sklearn.preprocessing import Normalizer\n",
    "scaler = Normalizer().fit(X)\n",
    "normalizedX = scaler.transform(X)\n",
    "# Tóm tắt dữ liệu đã chuyển đổi\n",
    "set_printoptions(precision=3)\n",
    "print(normalizedX[0:5,:])"
   ]
  },
  {
   "cell_type": "code",
   "execution_count": 35,
   "id": "febc2a36-8d72-4902-b992-599aa81fcff4",
   "metadata": {},
   "outputs": [
    {
     "name": "stdout",
     "output_type": "stream",
     "text": [
      "[[1. 1. 1. 1. 0. 1. 1. 1.]\n",
      " [1. 1. 1. 1. 0. 1. 1. 1.]\n",
      " [1. 1. 1. 0. 0. 1. 1. 1.]\n",
      " [1. 1. 1. 1. 1. 1. 1. 1.]\n",
      " [0. 1. 1. 1. 1. 1. 1. 1.]]\n"
     ]
    }
   ],
   "source": [
    "# Binarize dữ liệu với threshold = 0.0 (có thể thay đổi ngưỡng)\n",
    "from sklearn.preprocessing import Binarizer\n",
    "binarizer = Binarizer(threshold=0.0).fit(X)\n",
    "binaryX = binarizer.transform(X)\n",
    "# summarize transformed data\n",
    "set_printoptions(precision=3)\n",
    "print(binaryX[0:5,:])"
   ]
  },
  {
   "cell_type": "markdown",
   "id": "377b66ac-7381-4626-9082-bd0fca277a62",
   "metadata": {},
   "source": [
    "# Chương 8: Feature Selection For Machine Learning\n",
    "\n",
    "- Lựa chọn đặc trưng quan trọng giúp tăng tốc và nâng cao độ chính xác mô hình.\n",
    "- Các phương pháp phổ biến:\n",
    "  + Univariate Selection\n",
    "  + Recursive Feature Elimination (RFE)\n",
    "  + Principal Component Analysis (PCA)\n",
    "  + Feature Importance"
   ]
  },
  {
   "cell_type": "code",
   "execution_count": 43,
   "id": "dc6fca9b-cb14-44bf-b863-0af9a351a3a8",
   "metadata": {},
   "outputs": [
    {
     "name": "stdout",
     "output_type": "stream",
     "text": [
      "[ 111.52  1411.887   17.605   53.108 2175.565  127.669    5.393  181.304]\n",
      "[[148.    0.   33.6  50. ]\n",
      " [ 85.    0.   26.6  31. ]\n",
      " [183.    0.   23.3  32. ]\n",
      " [ 89.   94.   28.1  21. ]\n",
      " [137.  168.   43.1  33. ]]\n"
     ]
    }
   ],
   "source": [
    "from pandas import read_csv\n",
    "from numpy import set_printoptions\n",
    "from sklearn.feature_selection import SelectKBest\n",
    "from sklearn.feature_selection import chi2\n",
    "# Tải dữ liệu\n",
    "filename = 'pima-indians-diabetes.data.csv'\n",
    "names = ['preg', 'plas', 'pres', 'skin', 'test', 'mass', 'pedi', 'age', 'class']\n",
    "dataframe = read_csv(filename, names=names, header=0)\n",
    "array = dataframe.values\n",
    "X = array[:, 0:8]  # Các thuộc tính đầu vào\n",
    "Y = array[:, 8]     # Thuộc tính đầu ra\n",
    "# Trích xuất đặc trưng\n",
    "test = SelectKBest(score_func=chi2, k=4)\n",
    "fit = test.fit(X, Y)\n",
    "# Tóm tắt điểm số\n",
    "set_printoptions(precision=3)\n",
    "print(fit.scores_)  # In ra điểm số của các đặc trưng\n",
    "features = fit.transform(X)  # Chọn các đặc trưng\n",
    "# Tóm tắt các đặc trưng đã chọn\n",
    "print(features[0:5, :])  # In ra 5 mẫu đầu tiên của các đặc trưng đã chọn"
   ]
  },
  {
   "cell_type": "code",
   "execution_count": 91,
   "id": "3ec3dac4-052b-433d-8d99-ae2036a6e7be",
   "metadata": {},
   "outputs": [
    {
     "name": "stdout",
     "output_type": "stream",
     "text": [
      "Số lượng đặc trưng được chọn: 3\n",
      "Đặc trưng được chọn (True/False): [ True False False False False  True  True False]\n",
      "Xếp hạng của các đặc trưng: [1 2 3 5 6 1 1 4]\n"
     ]
    }
   ],
   "source": [
    "from pandas import read_csv\n",
    "from sklearn.feature_selection import RFE\n",
    "from sklearn.linear_model import LogisticRegression\n",
    "# load data\n",
    "filename = 'pima-indians-diabetes.data.csv'\n",
    "names = ['preg', 'plas', 'pres', 'skin', 'test', 'mass', 'pedi', 'age', 'class']\n",
    "dataframe = read_csv(filename, names=names, header=0)\n",
    "array = dataframe.values\n",
    "X = array[:,0:8]\n",
    "Y = array[:,8]\n",
    "# Trích xuất đặc trưng bằng RFE\n",
    "model = LogisticRegression(solver='liblinear', max_iter=200)  # Thêm max_iter để tránh cảnh báo hội tụ\n",
    "rfe = RFE(estimator=model, n_features_to_select=3)  # Phải dùng tham số rõ tên\n",
    "fit = rfe.fit(X, Y)\n",
    "# Hiển thị kết quả\n",
    "print(\"Số lượng đặc trưng được chọn: %d\" % fit.n_features_)\n",
    "print(\"Đặc trưng được chọn (True/False): %s\" % fit.support_)\n",
    "print(\"Xếp hạng của các đặc trưng: %s\" % fit.ranking_)"
   ]
  },
  {
   "cell_type": "code",
   "execution_count": 97,
   "id": "e842bd8f-aa75-4ada-9e95-61a5796c6da7",
   "metadata": {},
   "outputs": [
    {
     "name": "stdout",
     "output_type": "stream",
     "text": [
      "Phương sai giải thích: [0.889 0.062 0.026]\n",
      "[[-2.022e-03  9.781e-02  1.609e-02  6.076e-02  9.931e-01  1.401e-02\n",
      "   5.372e-04 -3.565e-03]\n",
      " [ 2.265e-02  9.722e-01  1.419e-01 -5.786e-02 -9.463e-02  4.697e-02\n",
      "   8.168e-04  1.402e-01]\n",
      " [ 2.246e-02 -1.434e-01  9.225e-01  3.070e-01 -2.098e-02  1.324e-01\n",
      "   6.400e-04  1.255e-01]]\n"
     ]
    }
   ],
   "source": [
    "# Biến đổi toàn bộ features thành tập feature mới bằng PCA.\n",
    "from sklearn.decomposition import PCA\n",
    "# Trích xuất đặc trưng\n",
    "pca = PCA(n_components=3)\n",
    "fit = pca.fit(X)\n",
    "# Tóm tắt các thành phần\n",
    "print(\"Phương sai giải thích: %s\" % fit.explained_variance_ratio_)\n",
    "print(fit.components_)"
   ]
  },
  {
   "cell_type": "code",
   "execution_count": 158,
   "id": "ebeb9215-43c0-49fb-9150-4399edc40f47",
   "metadata": {},
   "outputs": [
    {
     "name": "stdout",
     "output_type": "stream",
     "text": [
      "[0.108 0.228 0.099 0.08  0.077 0.138 0.121 0.148]\n"
     ]
    }
   ],
   "source": [
    "# Dùng mô hình cây (tree model) để đánh giá độ quan trọng của các đặc trưng.\n",
    "from sklearn.ensemble import ExtraTreesClassifier\n",
    "# Trích xuất đặc trưng\n",
    "model = ExtraTreesClassifier()\n",
    "model.fit(X, Y)\n",
    "print(model.feature_importances_)"
   ]
  }
 ],
 "metadata": {
  "kernelspec": {
   "display_name": "Python [conda env:base] *",
   "language": "python",
   "name": "conda-base-py"
  },
  "language_info": {
   "codemirror_mode": {
    "name": "ipython",
    "version": 3
   },
   "file_extension": ".py",
   "mimetype": "text/x-python",
   "name": "python",
   "nbconvert_exporter": "python",
   "pygments_lexer": "ipython3",
   "version": "3.12.7"
  }
 },
 "nbformat": 4,
 "nbformat_minor": 5
}
