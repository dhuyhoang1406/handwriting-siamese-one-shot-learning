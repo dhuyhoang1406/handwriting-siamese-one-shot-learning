{
 "cells": [
  {
   "cell_type": "markdown",
   "id": "e523be38-2623-48c4-8eb1-806362ba97dd",
   "metadata": {},
   "source": [
    "# Chương 1: Welcome\n",
    "\n",
    "- Hướng dẫn tổng quát về cách học Machine Learning bằng Python.\n",
    "- Machine Learning thực hành: tập trung làm project, không sa đà lý thuyết.\n",
    "- Các bước làm Machine Learning Project:\n",
    "  1. Define Problem\n",
    "  2. Analyze Data\n",
    "  3. Prepare Data\n",
    "  4. Evaluate Algorithms\n",
    "  5. Improve Results\n",
    "  6. Present Results"
   ]
  },
  {
   "cell_type": "markdown",
   "id": "42820748-057f-4122-8e1d-ea5a99681df2",
   "metadata": {},
   "source": [
    "# Chương 2: Python Ecosystem for Machine Learning\n",
    "\n",
    "- Giới thiệu Python, SciPy, scikit-learn\n",
    "- Cài đặt các thư viện cần thiết cho ML"
   ]
  },
  {
   "cell_type": "code",
   "execution_count": 10,
   "id": "c305d2a0-d77b-407e-9694-8402bc731ba2",
   "metadata": {},
   "outputs": [
    {
     "name": "stdout",
     "output_type": "stream",
     "text": [
      "Python 3.12.7\n"
     ]
    }
   ],
   "source": [
    "# Kiểm tra version của python\n",
    "!python --version"
   ]
  },
  {
   "cell_type": "code",
   "execution_count": 12,
   "id": "88cd9596-1f32-4232-968a-b289af6e72d4",
   "metadata": {},
   "outputs": [
    {
     "name": "stdout",
     "output_type": "stream",
     "text": [
      "scipy: 1.13.1\n",
      "numpy: 1.26.4\n",
      "matplotlib: 3.9.2\n",
      "pandas: 2.2.2\n"
     ]
    }
   ],
   "source": [
    "# Cách kiểm tra và tải thư viện\n",
    "# scipy\n",
    "import scipy\n",
    "print('scipy: {}'.format(scipy.__version__))\n",
    "# numpy\n",
    "import numpy\n",
    "print('numpy: {}'.format(numpy.__version__))\n",
    "# matplotlib\n",
    "import matplotlib\n",
    "print('matplotlib: {}'.format(matplotlib.__version__))\n",
    "# pandas\n",
    "import pandas\n",
    "print('pandas: {}'.format(pandas.__version__))"
   ]
  },
  {
   "cell_type": "markdown",
   "id": "69be851c-491e-4fe1-82a1-f712f9d6ab96",
   "metadata": {},
   "source": [
    "# Chương 3: Crash Course in Python and SciPy\n",
    "\n",
    "- Ôn tập nhanh Python cơ bản\n",
    "- Làm quen NumPy, Matplotlib, Pandas"
   ]
  },
  {
   "cell_type": "code",
   "execution_count": 16,
   "id": "77f9b9c0-ed57-49bf-9725-114ed9a57aae",
   "metadata": {},
   "outputs": [
    {
     "name": "stdout",
     "output_type": "stream",
     "text": [
      "h\n",
      "11\n",
      "hello world\n"
     ]
    }
   ],
   "source": [
    "# Làm việc với chuỗi\n",
    "data = 'hello world'\n",
    "print(data[0])  # Ký tự đầu tiên\n",
    "print(len(data))  # Độ dài chuỗi\n",
    "print(data)  # In toàn bộ chuỗi"
   ]
  },
  {
   "cell_type": "code",
   "execution_count": 18,
   "id": "df3a015f-f648-42aa-ac9e-eb6ea1ed38c7",
   "metadata": {},
   "outputs": [
    {
     "name": "stdout",
     "output_type": "stream",
     "text": [
      "123.1\n",
      "10\n"
     ]
    }
   ],
   "source": [
    "# Làm việc với số\n",
    "value = 123.1\n",
    "print(value)\n",
    "value = 10\n",
    "print(value)"
   ]
  },
  {
   "cell_type": "code",
   "execution_count": 22,
   "id": "16dfa837-b7d1-4949-804b-96e28f76703d",
   "metadata": {},
   "outputs": [
    {
     "name": "stdout",
     "output_type": "stream",
     "text": [
      "True False\n"
     ]
    }
   ],
   "source": [
    "# Kiểu dữ liệu boolean\n",
    "a = True\n",
    "b = False\n",
    "print(a, b)"
   ]
  },
  {
   "cell_type": "code",
   "execution_count": 24,
   "id": "7450ebdb-3387-440d-9615-81921313dc38",
   "metadata": {},
   "outputs": [
    {
     "name": "stdout",
     "output_type": "stream",
     "text": [
      "1 2 3\n"
     ]
    }
   ],
   "source": [
    "# Gán nhiều biến 1 lúc\n",
    "a, b, c = 1, 2, 3\n",
    "print(a, b, c)"
   ]
  },
  {
   "cell_type": "code",
   "execution_count": 26,
   "id": "b789642a-8ea7-4a1b-8bec-de04e986d06c",
   "metadata": {},
   "outputs": [
    {
     "name": "stdout",
     "output_type": "stream",
     "text": [
      "None\n"
     ]
    }
   ],
   "source": [
    "# Biến None (không có giá trị)\n",
    "a = None\n",
    "print(a)"
   ]
  },
  {
   "cell_type": "code",
   "execution_count": 28,
   "id": "b2a7a46f-6fec-4bca-b0bd-ee8a8530fe6f",
   "metadata": {},
   "outputs": [
    {
     "name": "stdout",
     "output_type": "stream",
     "text": [
      "That is fast\n"
     ]
    }
   ],
   "source": [
    "# Câu lệnh rẽ nhánh\n",
    "value = 99\n",
    "if value == 99:\n",
    "    print('That is fast')\n",
    "elif value > 200:\n",
    "    print('That is too fast')\n",
    "else:\n",
    "    print('That is safe')"
   ]
  },
  {
   "cell_type": "code",
   "execution_count": 30,
   "id": "1a530e9a-c227-492a-9709-370f56b5295a",
   "metadata": {},
   "outputs": [
    {
     "name": "stdout",
     "output_type": "stream",
     "text": [
      "0\n",
      "1\n",
      "2\n",
      "3\n",
      "4\n",
      "5\n",
      "6\n",
      "7\n",
      "8\n",
      "9\n"
     ]
    }
   ],
   "source": [
    "# Vòng lặp for\n",
    "for i in range(10):\n",
    "    print(i)"
   ]
  },
  {
   "cell_type": "code",
   "execution_count": 32,
   "id": "4ee3b4c7-9c20-487f-9c3a-23ee79faab2b",
   "metadata": {},
   "outputs": [
    {
     "name": "stdout",
     "output_type": "stream",
     "text": [
      "0\n",
      "1\n",
      "2\n",
      "3\n",
      "4\n",
      "5\n",
      "6\n",
      "7\n",
      "8\n",
      "9\n"
     ]
    }
   ],
   "source": [
    "# Vòng lặp while\n",
    "i = 0\n",
    "while i < 10:\n",
    "    print(i)\n",
    "    i += 1"
   ]
  },
  {
   "cell_type": "code",
   "execution_count": 34,
   "id": "ee379510-7c0b-493d-b0ee-75845e818acb",
   "metadata": {},
   "outputs": [
    {
     "name": "stdout",
     "output_type": "stream",
     "text": [
      "(1, 2, 3)\n"
     ]
    }
   ],
   "source": [
    "# Tuple (bộ dữ liệu không thay đổi)\n",
    "a = (1, 2, 3)\n",
    "print(a)"
   ]
  },
  {
   "cell_type": "code",
   "execution_count": 39,
   "id": "6fa19715-9e93-4660-862c-96f59279d225",
   "metadata": {},
   "outputs": [
    {
     "name": "stdout",
     "output_type": "stream",
     "text": [
      "Zeroth Value: 1\n",
      "List Length: 4\n",
      "1\n",
      "2\n",
      "3\n",
      "4\n"
     ]
    }
   ],
   "source": [
    "# List (danh sách)\n",
    "mylist = [1, 2, 3]\n",
    "print(\"Zeroth Value: %d\" % mylist[0])  # Phần tử đầu tiên\n",
    "mylist.append(4)  # Thêm phần tử\n",
    "print(\"List Length: %d\" % len(mylist))  # Độ dài danh sách\n",
    "for value in mylist:\n",
    "    print(value)"
   ]
  },
  {
   "cell_type": "code",
   "execution_count": 41,
   "id": "998e23ac-a52c-40f7-8317-fec4d41d68f9",
   "metadata": {},
   "outputs": [
    {
     "name": "stdout",
     "output_type": "stream",
     "text": [
      "A value: 1\n",
      "Keys: dict_keys(['a', 'b', 'c'])\n",
      "Values: dict_values([11, 2, 3])\n",
      "11\n",
      "2\n",
      "3\n"
     ]
    }
   ],
   "source": [
    "# Dictionary (từ điển key-value)\n",
    "mydict = {'a': 1, 'b': 2, 'c': 3}\n",
    "print(\"A value: %d\" % mydict['a'])  # Truy xuất theo key\n",
    "mydict['a'] = 11  # Cập nhật giá trị\n",
    "print(\"Keys:\", mydict.keys())\n",
    "print(\"Values:\", mydict.values())\n",
    "for key in mydict.keys():\n",
    "    print(mydict[key])"
   ]
  },
  {
   "cell_type": "code",
   "execution_count": 43,
   "id": "8d8da6c5-cea0-4f33-b485-8b108ec4cc58",
   "metadata": {},
   "outputs": [
    {
     "name": "stdout",
     "output_type": "stream",
     "text": [
      "4\n"
     ]
    }
   ],
   "source": [
    "# Định nghĩa hàm\n",
    "def mysum(x, y):\n",
    "    return x + y\n",
    "\n",
    "# Gọi hàm\n",
    "result = mysum(1, 3)\n",
    "print(result)"
   ]
  },
  {
   "cell_type": "code",
   "execution_count": 45,
   "id": "b2504ca0-16d5-4510-adae-6881e7e84a8a",
   "metadata": {},
   "outputs": [
    {
     "name": "stdout",
     "output_type": "stream",
     "text": [
      "[1 2 3]\n",
      "(3,)\n"
     ]
    }
   ],
   "source": [
    "import numpy as np\n",
    "\n",
    "# Tạo mảng NumPy từ list\n",
    "mylist = [1, 2, 3]\n",
    "myarray = np.array(mylist)\n",
    "print(myarray)\n",
    "print(myarray.shape)"
   ]
  },
  {
   "cell_type": "code",
   "execution_count": 53,
   "id": "ec3ee1dd-7821-4ca6-9f7a-e3750055255e",
   "metadata": {},
   "outputs": [
    {
     "name": "stdout",
     "output_type": "stream",
     "text": [
      "[[1 2 3]\n",
      " [3 4 5]]\n",
      "(2, 3)\n",
      "Hàng đầu tiên: [1 2 3]\n",
      "Hàng cuối: [3 4 5]\n",
      "Phần tử cụ thể ở hàng và cột: 3\n",
      "Toàn bộ cột: [3 5]\n"
     ]
    }
   ],
   "source": [
    "# Truy cập phần tử trong mảng\n",
    "mylist = [[1, 2, 3], [3, 4, 5]]\n",
    "myarray = numpy.array(mylist)\n",
    "print(myarray)                     \n",
    "print(myarray.shape)  \n",
    "print(\"Hàng đầu tiên: %s\" % myarray[0])           \n",
    "print(\"Hàng cuối: %s\" % myarray[-1])              \n",
    "print(\"Phần tử cụ thể ở hàng và cột: %s\" % myarray[0, 2])\n",
    "print(\"Toàn bộ cột: %s\" % myarray[:, 2]) "
   ]
  },
  {
   "cell_type": "code",
   "execution_count": 65,
   "id": "a8e34685-fea2-42bb-ba02-604aa38573e5",
   "metadata": {},
   "outputs": [
    {
     "name": "stdout",
     "output_type": "stream",
     "text": [
      "Cộng mảng: [5 5 5]\n",
      "Nhân mảng: [6 6 6]\n"
     ]
    }
   ],
   "source": [
    "# Tính toán trực tiếp với mảng\n",
    "import numpy as np\n",
    "myarray1 = np.array([2, 2, 2])\n",
    "myarray2 = np.array([3, 3, 3])\n",
    "print(\"Cộng mảng: %s\" % (myarray1 + myarray2))\n",
    "print(\"Nhân mảng: %s\" % (myarray1 * myarray2))"
   ]
  },
  {
   "cell_type": "code",
   "execution_count": 85,
   "id": "216ea463-9744-4ade-9fff-b6b5989a5a51",
   "metadata": {},
   "outputs": [
    {
     "data": {
      "image/png": "[encoded data removed]",
      "text/plain": [
       "<Figure size 640x480 with 1 Axes>"
      ]
     },
     "metadata": {},
     "output_type": "display_data"
    }
   ],
   "source": [
    "import matplotlib.pyplot as plt\n",
    "# Vẽ đồ thị đường\n",
    "data = np.array([1, 2, 3])\n",
    "plt.plot(data)\n",
    "plt.xlabel('X Axis')\n",
    "plt.ylabel('Y Axis')\n",
    "plt.show()"
   ]
  },
  {
   "cell_type": "code",
   "execution_count": 87,
   "id": "632a75fd-e763-4e25-a3ad-adc4c50850a5",
   "metadata": {},
   "outputs": [
    {
     "data": {
      "image/png": "[encoded data removed]",
      "text/plain": [
       "<Figure size 640x480 with 1 Axes>"
      ]
     },
     "metadata": {},
     "output_type": "display_data"
    }
   ],
   "source": [
    " import matplotlib.pyplot as plt\n",
    " import numpy as np\n",
    "# Vẽ biểu đồ phân tán\n",
    "x = np.array([1, 2, 3])\n",
    "y = np.array([2, 4, 6])\n",
    "plt.scatter(x, y)\n",
    "plt.xlabel('X Axis')\n",
    "plt.ylabel('Y Axis')\n",
    "plt.show()"
   ]
  },
  {
   "cell_type": "code",
   "execution_count": 89,
   "id": "8ec612e4-8d90-4187-93c2-b5487cd3f914",
   "metadata": {},
   "outputs": [
    {
     "name": "stdout",
     "output_type": "stream",
     "text": [
      "a    1\n",
      "b    2\n",
      "c    3\n",
      "dtype: int32\n",
      "1\n"
     ]
    }
   ],
   "source": [
    "import pandas as pd\n",
    "# Series 1 chiều\n",
    "myarray = np.array([1, 2, 3])\n",
    "rownames = ['a', 'b', 'c']\n",
    "myseries = pd.Series(myarray, index=rownames)\n",
    "print(myseries)\n",
    "print(myseries['a'])  # Truy cập theo label"
   ]
  },
  {
   "cell_type": "code",
   "execution_count": 109,
   "id": "db01af2a-2a81-4e5f-abb4-686ce349023a",
   "metadata": {},
   "outputs": [
    {
     "name": "stdout",
     "output_type": "stream",
     "text": [
      "   one  two  three\n",
      "a    1    2      3\n",
      "b    4    5      6\n",
      "Phương pháp 1:\n",
      "a    1\n",
      "b    4\n",
      "Name: one, dtype: int32\n",
      "Phương pháp 2:\n",
      "a    1\n",
      "b    4\n",
      "Name: one, dtype: int32\n",
      "one      1\n",
      "two      2\n",
      "three    3\n",
      "Name: a, dtype: int32\n"
     ]
    }
   ],
   "source": [
    "import pandas as pd\n",
    "import numpy as np\n",
    "# DataFrame 2 chiều\n",
    "myarray = np.array([[1, 2, 3], [4, 5, 6]])\n",
    "rownames = ['a', 'b']\n",
    "colnames = ['one', 'two', 'three']\n",
    "mydataframe = pd.DataFrame(myarray, index=rownames, columns=colnames)\n",
    "print(mydataframe)\n",
    "# Truy cập theo cột\n",
    "print(\"Phương pháp 1:\")\n",
    "print(mydataframe['one'])\n",
    "print(\"Phương pháp 2:\")\n",
    "print(mydataframe.one)\n",
    "# Truy cập theo hàng\n",
    "print(mydataframe.loc['a'])"
   ]
  },
  {
   "cell_type": "markdown",
   "id": "57c4615f-654e-4378-b69a-baf2f2183d93",
   "metadata": {},
   "source": [
    "# Chương 4: How To Load Machine Learning Data\n",
    "\n",
    "- Load dữ liệu CSV bằng nhiều cách: Python chuẩn, NumPy, Pandas\n",
    "- Dùng dữ liệu mẫu: Pima Indians Diabetes"
   ]
  },
  {
   "cell_type": "code",
   "execution_count": 153,
   "id": "114b4867-5bed-4a78-840c-5c46a74db87d",
   "metadata": {},
   "outputs": [
    {
     "name": "stdout",
     "output_type": "stream",
     "text": [
      "(768, 9)\n"
     ]
    }
   ],
   "source": [
    "import csv\n",
    "import numpy as np\n",
    "# Đường dẫn đến file CSV\n",
    "filename = 'pima-indians-diabetes.data.csv'\n",
    "# Mở file và đọc dữ liệu\n",
    "with open(filename, 'r') as raw_data:\n",
    "    reader = csv.reader(raw_data, delimiter=',', quoting=csv.QUOTE_NONE)\n",
    "    # Bỏ qua dòng tiêu đề\n",
    "    next(reader)  # Bỏ qua dòng đầu tiên\n",
    "    x = list(reader)\n",
    "# Chuyển đổi dữ liệu thành NumPy array\n",
    "data = np.array(x).astype('float')\n",
    "# In ra kích thước của mảng\n",
    "print(data.shape)  # Kết quả sẽ là (768, 9)"
   ]
  },
  {
   "cell_type": "code",
   "execution_count": 144,
   "id": "e7908f74-f7fc-4119-b2a9-72b7e1d1ea78",
   "metadata": {},
   "outputs": [
    {
     "name": "stdout",
     "output_type": "stream",
     "text": [
      "(768, 9)\n"
     ]
    }
   ],
   "source": [
    "import numpy as np\n",
    "# Đường dẫn đến file CSV\n",
    "filename = 'pima-indians-diabetes.data.csv'\n",
    "# Tải dữ liệu từ file CSV, bỏ qua dòng tiêu đề\n",
    "data = np.loadtxt(filename, delimiter=',', skiprows=1)\n",
    "print(data.shape)"
   ]
  },
  {
   "cell_type": "code",
   "execution_count": 142,
   "id": "b46d1752-9b29-4a18-bfb8-3525bf5ac717",
   "metadata": {},
   "outputs": [
    {
     "name": "stdout",
     "output_type": "stream",
     "text": [
      "(769, 9)\n"
     ]
    }
   ],
   "source": [
    " # Tải CSV dùng Pandas\n",
    " from pandas import read_csv\n",
    " filename = 'pima-indians-diabetes.data.csv'\n",
    " names = ['preg', 'plas', 'pres', 'skin', 'test', 'mass', 'pedi', 'age', 'class']\n",
    " data = read_csv(filename, names=names)\n",
    " print(data.shape)"
   ]
  },
  {
   "cell_type": "code",
   "execution_count": 197,
   "id": "cc34d691-fa82-462f-b30a-7dbe5ab10f5e",
   "metadata": {},
   "outputs": [
    {
     "name": "stdout",
     "output_type": "stream",
     "text": [
      "(769, 9)\n"
     ]
    }
   ],
   "source": [
    " # Tải CSV dùng Pandas từ URL\n",
    "from pandas import read_csv\n",
    "# Liên kết raw đến file CSV\n",
    "url = 'https://raw.githubusercontent.com/npradaschnor/Pima-Indians-Diabetes-Dataset/master/diabetes.csv'\n",
    "names = ['preg', 'plas', 'pres', 'skin', 'test', 'mass', 'pedi', 'age', 'class']\n",
    "# Tải dữ liệu từ URL\n",
    "data = read_csv(url, names=names)\n",
    "# In ra kích thước của DataFrame\n",
    "print(data.shape)  # Kết quả sẽ là (769, 9)"
   ]
  }
 ],
 "metadata": {
  "kernelspec": {
   "display_name": "Python [conda env:base] *",
   "language": "python",
   "name": "conda-base-py"
  },
  "language_info": {
   "codemirror_mode": {
    "name": "ipython",
    "version": 3
   },
   "file_extension": ".py",
   "mimetype": "text/x-python",
   "name": "python",
   "nbconvert_exporter": "python",
   "pygments_lexer": "ipython3",
   "version": "3.12.7"
  }
 },
 "nbformat": 4,
 "nbformat_minor": 5
}
